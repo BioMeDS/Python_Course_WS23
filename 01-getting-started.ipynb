{
 "cells": [
  {
   "cell_type": "code",
   "execution_count": null,
   "id": "43eb83a8-fe4d-4146-842b-2f93e81ba8f2",
   "metadata": {},
   "outputs": [],
   "source": [
    "!pip install pyboy"
   ]
  },
  {
   "cell_type": "code",
   "execution_count": 1,
   "id": "9d11a386-4893-4f8a-b883-8277aa78c055",
   "metadata": {},
   "outputs": [
    {
     "name": "stderr",
     "output_type": "stream",
     "text": [
      "UserWarning: Using SDL2 binaries from pysdl2-dll 2.30.0\n"
     ]
    }
   ],
   "source": [
    "from pyboy import PyBoy"
   ]
  },
  {
   "cell_type": "code",
   "execution_count": 6,
   "id": "071e9172-2ecc-48ce-8802-fc2bb707cc8a",
   "metadata": {},
   "outputs": [],
   "source": [
    "pyboy = PyBoy(\"Tetris.gb\", game_wrapper=True)"
   ]
  },
  {
   "cell_type": "code",
   "execution_count": 49,
   "id": "57d920c9-ba33-400e-a441-da650162ea82",
   "metadata": {},
   "outputs": [],
   "source": [
    "while not pyboy.tick():\n",
    "    pass\n",
    "pyboy.stop()"
   ]
  },
  {
   "cell_type": "code",
   "execution_count": 7,
   "id": "c0f8b003-9067-4217-9342-1b3cfea6cd8f",
   "metadata": {},
   "outputs": [],
   "source": [
    "for i in range(600):\n",
    "    pyboy.tick()"
   ]
  },
  {
   "cell_type": "code",
   "execution_count": 8,
   "id": "8e4a6e9e-a2f8-47b7-8ebf-c4fb672195f1",
   "metadata": {},
   "outputs": [],
   "source": [
    "tetris = pyboy.game_wrapper()"
   ]
  },
  {
   "cell_type": "code",
   "execution_count": 9,
   "id": "1878968b-c207-4ed2-affc-9e6860e6080c",
   "metadata": {},
   "outputs": [],
   "source": [
    "tetris.start_game()"
   ]
  },
  {
   "cell_type": "code",
   "execution_count": 10,
   "id": "4b406b32-404d-4de5-9fc7-2c1933c10152",
   "metadata": {},
   "outputs": [
    {
     "data": {
      "image/jpeg": "[encoded data removed]",
      "image/png": "[encoded data removed]",
      "text/plain": [
       "<PIL.Image.Image image mode=RGB size=160x144>"
      ]
     },
     "execution_count": 10,
     "metadata": {},
     "output_type": "execute_result"
    }
   ],
   "source": [
    "pyboy.screen_image()"
   ]
  },
  {
   "cell_type": "code",
   "execution_count": 11,
   "id": "b268eb59-e319-4380-ac42-1a385a911c12",
   "metadata": {},
   "outputs": [
    {
     "data": {
      "text/plain": [
       "array([[ 47,  47,  47,  47,  47,  47,  47,  47,  47,  47],\n",
       "       [ 47,  47,  47, 138, 139, 139, 143,  47,  47,  47],\n",
       "       [ 47,  47,  47,  47,  47,  47,  47,  47,  47,  47],\n",
       "       [ 47,  47,  47,  47,  47,  47,  47,  47,  47,  47],\n",
       "       [ 47,  47,  47,  47,  47,  47,  47,  47,  47,  47],\n",
       "       [ 47,  47,  47,  47,  47,  47,  47,  47,  47,  47],\n",
       "       [ 47,  47,  47,  47,  47,  47,  47,  47,  47,  47],\n",
       "       [ 47,  47,  47,  47,  47,  47,  47,  47,  47,  47],\n",
       "       [ 47,  47,  47,  47,  47,  47,  47,  47,  47,  47],\n",
       "       [ 47,  47,  47,  47,  47,  47,  47,  47,  47,  47],\n",
       "       [ 47,  47,  47,  47,  47,  47,  47,  47,  47,  47],\n",
       "       [ 47,  47,  47,  47,  47,  47,  47,  47,  47,  47],\n",
       "       [ 47,  47,  47,  47,  47,  47,  47,  47,  47,  47],\n",
       "       [ 47,  47,  47,  47,  47,  47,  47,  47,  47,  47],\n",
       "       [ 47,  47,  47,  47,  47,  47,  47,  47,  47,  47],\n",
       "       [ 47,  47,  47,  47,  47,  47,  47,  47,  47,  47],\n",
       "       [ 47,  47,  47,  47,  47,  47,  47,  47,  47,  47],\n",
       "       [ 47,  47,  47,  47,  47,  47,  47,  47,  47,  47]], dtype=uint32)"
      ]
     },
     "execution_count": 11,
     "metadata": {},
     "output_type": "execute_result"
    }
   ],
   "source": [
    "tetris.game_area().base"
   ]
  },
  {
   "cell_type": "code",
   "execution_count": 12,
   "id": "0f357eaa-8ebb-4fdc-87ae-09f0f316ab4e",
   "metadata": {},
   "outputs": [],
   "source": [
    "def play_one_second():\n",
    "    for i in range(60):\n",
    "        pyboy.tick()"
   ]
  },
  {
   "cell_type": "code",
   "execution_count": 26,
   "id": "11b14b2f-d1b8-495d-a6ee-cb9f4e21037b",
   "metadata": {},
   "outputs": [],
   "source": [
    "play_one_second()"
   ]
  },
  {
   "cell_type": "code",
   "execution_count": 18,
   "id": "961165d1-7d8a-45fb-b4d1-ea7dc3de14b7",
   "metadata": {},
   "outputs": [],
   "source": [
    "from pyboy import WindowEvent"
   ]
  },
  {
   "cell_type": "code",
   "execution_count": 24,
   "id": "de1dadf3-bb85-4cae-b6e3-c7247be631b5",
   "metadata": {},
   "outputs": [],
   "source": [
    "pyboy.send_input(WindowEvent.PRESS_ARROW_LEFT)\n",
    "pyboy.tick()\n",
    "pyboy.send_input(WindowEvent.RELEASE_ARROW_LEFT)"
   ]
  },
  {
   "cell_type": "code",
   "execution_count": 47,
   "id": "365fd0ee-85ce-4011-b901-9ae9565445dd",
   "metadata": {},
   "outputs": [],
   "source": [
    "play_one_second()"
   ]
  },
  {
   "cell_type": "code",
   "execution_count": 48,
   "id": "2d54d3fb-d7a8-4b89-bf0c-ec4686bda548",
   "metadata": {},
   "outputs": [],
   "source": [
    "tetris.reset_game(timer_div=0x01)"
   ]
  }
 ],
 "metadata": {
  "kernelspec": {
   "display_name": "Python 3 (ipykernel)",
   "language": "python",
   "name": "python3"
  },
  "language_info": {
   "codemirror_mode": {
    "name": "ipython",
    "version": 3
   },
   "file_extension": ".py",
   "mimetype": "text/x-python",
   "name": "python",
   "nbconvert_exporter": "python",
   "pygments_lexer": "ipython3",
   "version": "3.11.7"
  }
 },
 "nbformat": 4,
 "nbformat_minor": 5
}
