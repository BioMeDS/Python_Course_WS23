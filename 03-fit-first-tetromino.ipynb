{
 "cells": [
  {
   "cell_type": "code",
   "execution_count": 1,
   "id": "17e397f6-39dc-47a8-b328-e107b03bed68",
   "metadata": {},
   "outputs": [
    {
     "name": "stderr",
     "output_type": "stream",
     "text": [
      "UserWarning: Using SDL2 binaries from pysdl2-dll 2.30.0\n"
     ]
    }
   ],
   "source": [
    "from pyboy import PyBoy, WindowEvent\n",
    "import numpy as np\n",
    "import matplotlib.pyplot as plt\n",
    "import pandas as pd"
   ]
  },
  {
   "cell_type": "code",
   "execution_count": 2,
   "id": "e8caa96f-8ba5-4648-846e-38b4e95d6427",
   "metadata": {},
   "outputs": [],
   "source": [
    "from current_tetromino import current_tetromino"
   ]
  },
  {
   "cell_type": "code",
   "execution_count": 3,
   "id": "071e9172-2ecc-48ce-8802-fc2bb707cc8a",
   "metadata": {},
   "outputs": [],
   "source": [
    "pyboy = PyBoy(\"Tetris.gb\", game_wrapper=True)"
   ]
  },
  {
   "cell_type": "code",
   "execution_count": 4,
   "id": "3078e4a8-ec2d-4d0e-a807-2fe6f6663c89",
   "metadata": {},
   "outputs": [],
   "source": [
    "pyboy.set_emulation_speed(5)"
   ]
  },
  {
   "cell_type": "code",
   "execution_count": 5,
   "id": "8e4a6e9e-a2f8-47b7-8ebf-c4fb672195f1",
   "metadata": {},
   "outputs": [],
   "source": [
    "tetris = pyboy.game_wrapper()"
   ]
  },
  {
   "cell_type": "code",
   "execution_count": 6,
   "id": "e2654de4-f5d7-4544-ab60-a06db346e0e8",
   "metadata": {},
   "outputs": [],
   "source": [
    "tetris.start_game()"
   ]
  },
  {
   "cell_type": "code",
   "execution_count": 11,
   "id": "2ca2ed89-6208-4503-920a-1caeeca2aab6",
   "metadata": {},
   "outputs": [],
   "source": [
    "start_screens = []\n",
    "for i in range(200):\n",
    "    tetris.reset_game()\n",
    "    start_screens.append(tetris.game_area().base)\n",
    "start_screens = np.array(start_screens)"
   ]
  },
  {
   "cell_type": "code",
   "execution_count": 12,
   "id": "61dfd79b-dbe0-4871-b8da-8b297444233a",
   "metadata": {},
   "outputs": [
    {
     "data": {
      "text/plain": [
       "(200, 18, 10)"
      ]
     },
     "execution_count": 12,
     "metadata": {},
     "output_type": "execute_result"
    }
   ],
   "source": [
    "start_screens.shape"
   ]
  },
  {
   "cell_type": "code",
   "execution_count": 13,
   "id": "23bb3c7f-7187-43c4-8e33-7be25c3d948a",
   "metadata": {},
   "outputs": [],
   "source": [
    "sc, co = np.unique(start_screens, axis=0, return_counts=True)"
   ]
  },
  {
   "cell_type": "code",
   "execution_count": 14,
   "id": "b6a46035-0a8c-462e-bcd4-d14e44e450eb",
   "metadata": {},
   "outputs": [
    {
     "data": {
      "text/plain": [
       "((7, 18, 10), array([37, 33, 33, 32,  1, 28, 36], dtype=int64))"
      ]
     },
     "execution_count": 14,
     "metadata": {},
     "output_type": "execute_result"
    }
   ],
   "source": [
    "sc.shape, co"
   ]
  },
  {
   "cell_type": "code",
   "execution_count": 17,
   "id": "d7d73682-dc15-4753-a584-36607f159c39",
   "metadata": {},
   "outputs": [
    {
     "data": {
      "image/png": "[encoded data removed]",
      "text/plain": [
       "<Figure size 1000x1000 with 7 Axes>"
      ]
     },
     "metadata": {},
     "output_type": "display_data"
    }
   ],
   "source": [
    "fig, axs = plt.subplots(1,7, figsize=(10,10))\n",
    "for ax, s, c in zip(axs.flatten(), sc, co):\n",
    "    ax.imshow(s)\n",
    "    ax.set_title(c)"
   ]
  },
  {
   "cell_type": "code",
   "execution_count": 22,
   "id": "1603bbb7-a775-48df-be21-f1c80ae92482",
   "metadata": {},
   "outputs": [
    {
     "data": {
      "image/png": "[encoded data removed]",
      "text/plain": [
       "<Figure size 1000x1000 with 7 Axes>"
      ]
     },
     "metadata": {},
     "output_type": "display_data"
    }
   ],
   "source": [
    "fig, axs = plt.subplots(1,7, figsize=(10,10))\n",
    "for ax, s in zip(axs.flatten(), sc):\n",
    "    ax.imshow(s[1:3,3:7])"
   ]
  },
  {
   "cell_type": "code",
   "execution_count": 7,
   "id": "ce206b29-b202-4f67-b3db-076e2572c651",
   "metadata": {},
   "outputs": [],
   "source": [
    "rotations = [0, 0, 1, 0, 3, 2, 1]\n",
    "direction = [\"left\", \"left\", \"right\", \"right\", \"left\", \"left\", \"left\"]"
   ]
  },
  {
   "cell_type": "code",
   "execution_count": 24,
   "id": "3fa8ee31-8b9d-4a6a-8565-cedb843d8ee5",
   "metadata": {},
   "outputs": [
    {
     "name": "stdout",
     "output_type": "stream",
     "text": [
      "O\n"
     ]
    },
    {
     "data": {
      "image/jpeg": "[encoded data removed]",
      "image/png": "[encoded data removed]",
      "text/plain": [
       "<PIL.Image.Image image mode=RGB size=160x144>"
      ]
     },
     "execution_count": 24,
     "metadata": {},
     "output_type": "execute_result"
    }
   ],
   "source": [
    "tetris.reset_game(timer_div=9)\n",
    "print(current_tetromino(tetris))\n",
    "pyboy.screen_image()"
   ]
  },
  {
   "cell_type": "code",
   "execution_count": null,
   "id": "777c9ac1-f0fb-4c18-a090-76e7226770a9",
   "metadata": {},
   "outputs": [],
   "source": [
    "IOZSTOJIO"
   ]
  },
  {
   "cell_type": "code",
   "execution_count": 9,
   "id": "e14b4519-be2c-453c-a74d-c230e0042b34",
   "metadata": {},
   "outputs": [
    {
     "name": "stdout",
     "output_type": "stream",
     "text": [
      "None\n"
     ]
    },
    {
     "data": {
      "image/jpeg": "[encoded data removed]",
      "image/png": "[encoded data removed]",
      "text/plain": [
       "<PIL.Image.Image image mode=RGB size=160x144>"
      ]
     },
     "execution_count": 9,
     "metadata": {},
     "output_type": "execute_result"
    }
   ],
   "source": [
    "tetris.reset_game()\n",
    "[pyboy.tick() for _ in range(60)]\n",
    "print(current_tetromino(tetris))\n",
    "pyboy.screen_image()"
   ]
  },
  {
   "cell_type": "code",
   "execution_count": 79,
   "id": "e7c2fcf0-01b4-4831-86c2-561438591b21",
   "metadata": {},
   "outputs": [
    {
     "data": {
      "text/html": [
       "<div>\n",
       "<style scoped>\n",
       "    .dataframe tbody tr th:only-of-type {\n",
       "        vertical-align: middle;\n",
       "    }\n",
       "\n",
       "    .dataframe tbody tr th {\n",
       "        vertical-align: top;\n",
       "    }\n",
       "\n",
       "    .dataframe thead th {\n",
       "        text-align: right;\n",
       "    }\n",
       "</style>\n",
       "<table border=\"1\" class=\"dataframe\">\n",
       "  <thead>\n",
       "    <tr style=\"text-align: right;\">\n",
       "      <th></th>\n",
       "      <th>rot</th>\n",
       "      <th>dir</th>\n",
       "    </tr>\n",
       "    <tr>\n",
       "      <th>shape</th>\n",
       "      <th></th>\n",
       "      <th></th>\n",
       "    </tr>\n",
       "  </thead>\n",
       "  <tbody>\n",
       "    <tr>\n",
       "      <th>O</th>\n",
       "      <td>0</td>\n",
       "      <td>left</td>\n",
       "    </tr>\n",
       "    <tr>\n",
       "      <th>S</th>\n",
       "      <td>0</td>\n",
       "      <td>left</td>\n",
       "    </tr>\n",
       "    <tr>\n",
       "      <th>J</th>\n",
       "      <td>1</td>\n",
       "      <td>right</td>\n",
       "    </tr>\n",
       "    <tr>\n",
       "      <th>Z</th>\n",
       "      <td>0</td>\n",
       "      <td>right</td>\n",
       "    </tr>\n",
       "    <tr>\n",
       "      <th>L</th>\n",
       "      <td>3</td>\n",
       "      <td>left</td>\n",
       "    </tr>\n",
       "    <tr>\n",
       "      <th>T</th>\n",
       "      <td>2</td>\n",
       "      <td>left</td>\n",
       "    </tr>\n",
       "    <tr>\n",
       "      <th>I</th>\n",
       "      <td>1</td>\n",
       "      <td>left</td>\n",
       "    </tr>\n",
       "  </tbody>\n",
       "</table>\n",
       "</div>"
      ],
      "text/plain": [
       "       rot    dir\n",
       "shape            \n",
       "O        0   left\n",
       "S        0   left\n",
       "J        1  right\n",
       "Z        0  right\n",
       "L        3   left\n",
       "T        2   left\n",
       "I        1   left"
      ]
     },
     "execution_count": 79,
     "metadata": {},
     "output_type": "execute_result"
    }
   ],
   "source": [
    "initial_info = pd.DataFrame({\"shape\": shape_names, \"rot\": rotations, \"dir\": direction}).set_index(\"shape\")\n",
    "initial_info"
   ]
  },
  {
   "cell_type": "code",
   "execution_count": 165,
   "id": "b07d91d0-3054-42db-904d-416bfeddd8dc",
   "metadata": {},
   "outputs": [],
   "source": [
    "pyboy.set_emulation_speed(0)"
   ]
  },
  {
   "cell_type": "code",
   "execution_count": 170,
   "id": "8e8dfa11-eb5c-49bd-84d3-fdf5228e8654",
   "metadata": {},
   "outputs": [],
   "source": [
    "tetris.reset_game()\n",
    "current = current_tetromino(tetris)\n",
    "for r in range(initial_info.loc[current,\"rot\"]):\n",
    "    pyboy.send_input(WindowEvent.PRESS_BUTTON_A)\n",
    "    pyboy.tick()\n",
    "    pyboy.send_input(WindowEvent.RELEASE_BUTTON_A)\n",
    "    [pyboy.tick() for _ in range(60)]\n",
    "press_arrow = WindowEvent.PRESS_ARROW_LEFT if initial_info.loc[current,\"dir\"] == \"left\" else WindowEvent.PRESS_ARROW_RIGHT\n",
    "release_arrow = WindowEvent.RELEASE_ARROW_LEFT if initial_info.loc[current,\"dir\"] == \"left\" else WindowEvent.RELEASE_ARROW_RIGHT\n",
    "pyboy.send_input(press_arrow)\n",
    "for _ in range(800):\n",
    "    pyboy.tick()\n",
    "pyboy.send_input(release_arrow)"
   ]
  },
  {
   "cell_type": "code",
   "execution_count": 151,
   "id": "1ebba366-68b8-4a08-adc9-4a2e4ab3216f",
   "metadata": {},
   "outputs": [],
   "source": [
    "#pyboy.stop()"
   ]
  },
  {
   "cell_type": "code",
   "execution_count": null,
   "id": "0efb0b60-390a-45f1-931b-ae92ff5a0878",
   "metadata": {},
   "outputs": [],
   "source": []
  }
 ],
 "metadata": {
  "kernelspec": {
   "display_name": "Python 3 (ipykernel)",
   "language": "python",
   "name": "python3"
  },
  "language_info": {
   "codemirror_mode": {
    "name": "ipython",
    "version": 3
   },
   "file_extension": ".py",
   "mimetype": "text/x-python",
   "name": "python",
   "nbconvert_exporter": "python",
   "pygments_lexer": "ipython3",
   "version": "3.11.7"
  }
 },
 "nbformat": 4,
 "nbformat_minor": 5
}
