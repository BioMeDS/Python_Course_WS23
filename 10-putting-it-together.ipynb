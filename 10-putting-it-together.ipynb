{
 "cells": [
  {
   "cell_type": "code",
   "execution_count": 1,
   "id": "1702354c-12b7-4a48-8660-5b6d9b5d1266",
   "metadata": {},
   "outputs": [
    {
     "name": "stderr",
     "output_type": "stream",
     "text": [
      "UserWarning: Using SDL2 binaries from pysdl2-dll 2.30.0\n"
     ]
    }
   ],
   "source": [
    "from pyboy import PyBoy, WindowEvent\n",
    "import numpy as np\n",
    "import matplotlib.pyplot as plt\n",
    "import pandas as pd"
   ]
  },
  {
   "cell_type": "code",
   "execution_count": 2,
   "id": "ffe4c076-85e2-4a10-8c39-2ed5c57dabec",
   "metadata": {},
   "outputs": [],
   "source": [
    "import current_tetromino as ct\n",
    "from possibilities import get_possibilities\n",
    "import scoring_functions as sf\n",
    "import moving_instructions as mi"
   ]
  },
  {
   "cell_type": "code",
   "execution_count": 3,
   "id": "69ca604f-7c94-45e0-b1f7-c7746e0333a3",
   "metadata": {},
   "outputs": [],
   "source": [
    "def game_over(tetris):\n",
    "    return tetris.game_area().base[-2,-2] == 39"
   ]
  },
  {
   "cell_type": "code",
   "execution_count": 4,
   "id": "7fa3ecc1-b96c-46d0-b400-8998c0c260b2",
   "metadata": {},
   "outputs": [],
   "source": [
    "def play_until_next_tetro(pyboy, tetris):\n",
    "    while not ct.current_tetromino(tetris):\n",
    "        pyboy.tick()\n",
    "        if game_over(tetris):\n",
    "            break"
   ]
  },
  {
   "cell_type": "code",
   "execution_count": 5,
   "id": "9c3ec55c-7075-465a-8b28-6e358a287ffa",
   "metadata": {},
   "outputs": [],
   "source": [
    "def score(possibility):\n",
    "    field = possibility[0]\n",
    "    return 4*sf.recognize_holes(field)+max(sf.get_heights(field))-10*sf.lines_cleared_at_same_time(field)"
   ]
  },
  {
   "cell_type": "code",
   "execution_count": 46,
   "id": "38f08d2a-d86f-42d1-9077-cabbd1aaa852",
   "metadata": {},
   "outputs": [],
   "source": [
    "def get_starting_col(tetris, rotations):\n",
    "    current = ct.current_tetromino(tetris)\n",
    "    start_col = 3\n",
    "    if current==\"O\":\n",
    "        start_col = 4\n",
    "    if current in \"I\" and rotations==1:\n",
    "        start_col = 4\n",
    "    if current in \"TLJ\" and rotations==3:\n",
    "        start_col = 4\n",
    "    return start_col"
   ]
  },
  {
   "cell_type": "code",
   "execution_count": 6,
   "id": "74751844-9a5b-48d4-a0f5-dfcccd22f427",
   "metadata": {},
   "outputs": [],
   "source": [
    "pyboy = PyBoy(\"Tetris.gb\", game_wrapper=True)\n",
    "pyboy.set_emulation_speed(10)\n",
    "tetris = pyboy.game_wrapper()\n",
    "tetris.start_game()"
   ]
  },
  {
   "cell_type": "code",
   "execution_count": 51,
   "id": "d5163228-ebd1-43ca-b039-b9fc87df5d9e",
   "metadata": {},
   "outputs": [],
   "source": [
    "tetris.reset_game()#timer_div=0)"
   ]
  },
  {
   "cell_type": "code",
   "execution_count": 52,
   "id": "eed32ed3-d4a9-41a6-b1ef-7c7e53e4cd13",
   "metadata": {},
   "outputs": [],
   "source": [
    "while not game_over(tetris):\n",
    "    possibilities = get_possibilities(tetris)\n",
    "    possibilities.sort(key=score)\n",
    "    start_col = get_starting_col(tetris, possibilities[0][2])\n",
    "    mi.piece_positioning(start_col-possibilities[0][1],possibilities[0][2],pyboy,delay=10)\n",
    "    [pyboy.tick() for _ in range(30)]\n",
    "    play_until_next_tetro(pyboy,tetris)"
   ]
  },
  {
   "cell_type": "code",
   "execution_count": null,
   "id": "25f75db0-93df-4717-be92-818ca8e31fce",
   "metadata": {},
   "outputs": [],
   "source": []
  }
 ],
 "metadata": {
  "kernelspec": {
   "display_name": "Python 3 (ipykernel)",
   "language": "python",
   "name": "python3"
  },
  "language_info": {
   "codemirror_mode": {
    "name": "ipython",
    "version": 3
   },
   "file_extension": ".py",
   "mimetype": "text/x-python",
   "name": "python",
   "nbconvert_exporter": "python",
   "pygments_lexer": "ipython3",
   "version": "3.11.7"
  }
 },
 "nbformat": 4,
 "nbformat_minor": 5
}
