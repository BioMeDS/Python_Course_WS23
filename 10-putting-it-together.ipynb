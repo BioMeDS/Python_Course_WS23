{
 "cells": [
  {
   "cell_type": "code",
   "execution_count": 1,
   "id": "1702354c-12b7-4a48-8660-5b6d9b5d1266",
   "metadata": {},
   "outputs": [
    {
     "name": "stderr",
     "output_type": "stream",
     "text": [
      "UserWarning: Using SDL2 binaries from pysdl2-dll 2.30.0\n"
     ]
    }
   ],
   "source": [
    "from pyboy import PyBoy, WindowEvent\n",
    "import numpy as np\n",
    "import matplotlib.pyplot as plt\n",
    "import pandas as pd"
   ]
  },
  {
   "cell_type": "code",
   "execution_count": 2,
   "id": "ffe4c076-85e2-4a10-8c39-2ed5c57dabec",
   "metadata": {},
   "outputs": [],
   "source": [
    "import current_tetromino as ct\n",
    "from possibilities import get_possibilities\n",
    "import scoring_functions as sf\n",
    "import moving_instructions as mi"
   ]
  },
  {
   "cell_type": "code",
   "execution_count": 3,
   "id": "7fa3ecc1-b96c-46d0-b400-8998c0c260b2",
   "metadata": {},
   "outputs": [],
   "source": [
    "def play_until_next_tetro(pyboy, tetris):\n",
    "    while not ct.current_tetromino(tetris):\n",
    "        pyboy.tick()"
   ]
  },
  {
   "cell_type": "code",
   "execution_count": 4,
   "id": "74751844-9a5b-48d4-a0f5-dfcccd22f427",
   "metadata": {},
   "outputs": [],
   "source": [
    "pyboy = PyBoy(\"Tetris.gb\", game_wrapper=True)\n",
    "pyboy.set_emulation_speed(5)\n",
    "tetris = pyboy.game_wrapper()\n",
    "tetris.start_game()"
   ]
  },
  {
   "cell_type": "code",
   "execution_count": 63,
   "id": "b5e26085-aad7-4065-8089-7a8d4cbd0e94",
   "metadata": {},
   "outputs": [],
   "source": [
    "tetris.reset_game(timer_div=0)"
   ]
  },
  {
   "cell_type": "code",
   "execution_count": 64,
   "id": "0f12d2d6-d3a4-49a9-a1bb-c324058ea394",
   "metadata": {},
   "outputs": [],
   "source": [
    "pyboy.set_emulation_speed(10)"
   ]
  },
  {
   "cell_type": "code",
   "execution_count": 55,
   "id": "21d6cfd1-808c-4e4c-b007-c209a64b6935",
   "metadata": {},
   "outputs": [
    {
     "data": {
      "text/plain": [
       "[1, 1]"
      ]
     },
     "execution_count": 55,
     "metadata": {},
     "output_type": "execute_result"
    }
   ],
   "source": [
    "possibilities = get_possibilities(tetris)\n",
    "possibilities.sort(key=lambda x: sf.recognize_holes(x[0]))\n",
    "possibilities[0][1:]"
   ]
  },
  {
   "cell_type": "code",
   "execution_count": 56,
   "id": "a484903d-9748-426a-a600-99b8f575d800",
   "metadata": {},
   "outputs": [],
   "source": [
    "current = ct.current_tetromino(tetris)\n",
    "start_col = 3\n",
    "if current==\"O\" or (current==\"I\" and possibilities[0][1]==1):\n",
    "    start_col = 4"
   ]
  },
  {
   "cell_type": "code",
   "execution_count": 57,
   "id": "f8cf107a-97ad-4175-b8c3-c15d8461d32c",
   "metadata": {},
   "outputs": [],
   "source": [
    "mi.piece_positioning(start_col-possibilities[0][1],possibilities[0][2],pyboy)"
   ]
  },
  {
   "cell_type": "code",
   "execution_count": 58,
   "id": "67b05ba1-7013-4c7c-b9cd-a6027ac1aa0b",
   "metadata": {},
   "outputs": [],
   "source": [
    "play_until_next_tetro(pyboy,tetris)"
   ]
  },
  {
   "cell_type": "code",
   "execution_count": 81,
   "id": "d5163228-ebd1-43ca-b039-b9fc87df5d9e",
   "metadata": {},
   "outputs": [],
   "source": [
    "tetris.reset_game(timer_div=4)"
   ]
  },
  {
   "cell_type": "code",
   "execution_count": 83,
   "id": "eed32ed3-d4a9-41a6-b1ef-7c7e53e4cd13",
   "metadata": {},
   "outputs": [
    {
     "ename": "KeyboardInterrupt",
     "evalue": "",
     "output_type": "error",
     "traceback": [
      "\u001b[1;31m---------------------------------------------------------------------------\u001b[0m",
      "\u001b[1;31mKeyboardInterrupt\u001b[0m                         Traceback (most recent call last)",
      "Cell \u001b[1;32mIn[83], line 12\u001b[0m\n\u001b[0;32m     10\u001b[0m mi\u001b[38;5;241m.\u001b[39mpiece_positioning(start_col\u001b[38;5;241m-\u001b[39mpossibilities[\u001b[38;5;241m0\u001b[39m][\u001b[38;5;241m1\u001b[39m],possibilities[\u001b[38;5;241m0\u001b[39m][\u001b[38;5;241m2\u001b[39m],pyboy)\n\u001b[0;32m     11\u001b[0m [pyboy\u001b[38;5;241m.\u001b[39mtick() \u001b[38;5;28;01mfor\u001b[39;00m _ \u001b[38;5;129;01min\u001b[39;00m \u001b[38;5;28mrange\u001b[39m(\u001b[38;5;241m30\u001b[39m)]\n\u001b[1;32m---> 12\u001b[0m play_until_next_tetro(pyboy,tetris)\n",
      "Cell \u001b[1;32mIn[3], line 3\u001b[0m, in \u001b[0;36mplay_until_next_tetro\u001b[1;34m(pyboy, tetris)\u001b[0m\n\u001b[0;32m      1\u001b[0m \u001b[38;5;28;01mdef\u001b[39;00m \u001b[38;5;21mplay_until_next_tetro\u001b[39m(pyboy, tetris):\n\u001b[0;32m      2\u001b[0m     \u001b[38;5;28;01mwhile\u001b[39;00m \u001b[38;5;129;01mnot\u001b[39;00m ct\u001b[38;5;241m.\u001b[39mcurrent_tetromino(tetris):\n\u001b[1;32m----> 3\u001b[0m         pyboy\u001b[38;5;241m.\u001b[39mtick()\n",
      "\u001b[1;31mKeyboardInterrupt\u001b[0m: "
     ]
    }
   ],
   "source": [
    "for i in range(20):\n",
    "    possibilities = get_possibilities(tetris)\n",
    "    possibilities.sort(key=lambda x: sf.recognize_holes(x[0]) + max(sf.get_heights(x[0])))\n",
    "    current = ct.current_tetromino(tetris)\n",
    "    start_col = 3\n",
    "    if current==\"O\":\n",
    "        start_col = 4\n",
    "    if current==\"I\" and possibilities[0][1]==1:\n",
    "        start_col = 4\n",
    "    mi.piece_positioning(start_col-possibilities[0][1],possibilities[0][2],pyboy)\n",
    "    [pyboy.tick() for _ in range(30)]\n",
    "    play_until_next_tetro(pyboy,tetris)"
   ]
  },
  {
   "cell_type": "code",
   "execution_count": 67,
   "id": "b1606b7e-63bd-49a3-89b7-801af1d7c309",
   "metadata": {},
   "outputs": [
    {
     "data": {
      "text/plain": [
       "'S'"
      ]
     },
     "execution_count": 67,
     "metadata": {},
     "output_type": "execute_result"
    }
   ],
   "source": [
    "ct.current_tetromino(tetris)"
   ]
  },
  {
   "cell_type": "code",
   "execution_count": 72,
   "id": "d95f0fa9-4945-4103-a446-bb0b5ea65901",
   "metadata": {},
   "outputs": [],
   "source": [
    "possibilities = get_possibilities(tetris)\n",
    "possibilities.sort(key=lambda x: sf.recognize_holes(x[0]) + max(sf.get_heights(x[0])))"
   ]
  },
  {
   "cell_type": "code",
   "execution_count": 73,
   "id": "2bdde64b-186d-4c7b-994c-3f5800384d70",
   "metadata": {},
   "outputs": [
    {
     "data": {
      "text/plain": [
       "0"
      ]
     },
     "execution_count": 73,
     "metadata": {},
     "output_type": "execute_result"
    }
   ],
   "source": [
    "start_col-possibilities[0][1]"
   ]
  },
  {
   "cell_type": "code",
   "execution_count": 74,
   "id": "3c80513a-426a-4e8d-aabe-12037a7c1813",
   "metadata": {},
   "outputs": [
    {
     "data": {
      "text/plain": [
       "0"
      ]
     },
     "execution_count": 74,
     "metadata": {},
     "output_type": "execute_result"
    }
   ],
   "source": [
    "possibilities[0][2]"
   ]
  },
  {
   "cell_type": "code",
   "execution_count": null,
   "id": "69ca604f-7c94-45e0-b1f7-c7746e0333a3",
   "metadata": {},
   "outputs": [],
   "source": []
  }
 ],
 "metadata": {
  "kernelspec": {
   "display_name": "Python 3 (ipykernel)",
   "language": "python",
   "name": "python3"
  },
  "language_info": {
   "codemirror_mode": {
    "name": "ipython",
    "version": 3
   },
   "file_extension": ".py",
   "mimetype": "text/x-python",
   "name": "python",
   "nbconvert_exporter": "python",
   "pygments_lexer": "ipython3",
   "version": "3.11.7"
  }
 },
 "nbformat": 4,
 "nbformat_minor": 5
}
