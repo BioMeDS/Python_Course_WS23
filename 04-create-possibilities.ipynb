{
 "cells": [
  {
   "cell_type": "code",
   "execution_count": 1,
   "id": "17e397f6-39dc-47a8-b328-e107b03bed68",
   "metadata": {},
   "outputs": [
    {
     "name": "stderr",
     "output_type": "stream",
     "text": [
      "UserWarning: Using SDL2 binaries from pysdl2-dll 2.30.0\n"
     ]
    }
   ],
   "source": [
    "from pyboy import PyBoy, WindowEvent\n",
    "import numpy as np\n",
    "import matplotlib.pyplot as plt\n",
    "import pandas as pd"
   ]
  },
  {
   "cell_type": "code",
   "execution_count": 2,
   "id": "e8caa96f-8ba5-4648-846e-38b4e95d6427",
   "metadata": {},
   "outputs": [],
   "source": [
    "import current_tetromino as ct"
   ]
  },
  {
   "cell_type": "code",
   "execution_count": 3,
   "id": "071e9172-2ecc-48ce-8802-fc2bb707cc8a",
   "metadata": {},
   "outputs": [],
   "source": [
    "pyboy = PyBoy(\"Tetris.gb\", game_wrapper=True)"
   ]
  },
  {
   "cell_type": "code",
   "execution_count": 4,
   "id": "3078e4a8-ec2d-4d0e-a807-2fe6f6663c89",
   "metadata": {},
   "outputs": [],
   "source": [
    "pyboy.set_emulation_speed(5)"
   ]
  },
  {
   "cell_type": "code",
   "execution_count": 5,
   "id": "8e4a6e9e-a2f8-47b7-8ebf-c4fb672195f1",
   "metadata": {},
   "outputs": [],
   "source": [
    "tetris = pyboy.game_wrapper()"
   ]
  },
  {
   "cell_type": "code",
   "execution_count": 6,
   "id": "e2654de4-f5d7-4544-ab60-a06db346e0e8",
   "metadata": {},
   "outputs": [],
   "source": [
    "tetris.start_game()"
   ]
  },
  {
   "cell_type": "code",
   "execution_count": 7,
   "id": "544e96ce-18f0-469e-9fe7-986020801dbc",
   "metadata": {},
   "outputs": [],
   "source": [
    "current = ct.current_tetromino(tetris)"
   ]
  },
  {
   "cell_type": "code",
   "execution_count": 12,
   "id": "16d9341b-f23b-430e-b8e1-505bb56ba9a2",
   "metadata": {},
   "outputs": [
    {
     "data": {
      "text/plain": [
       "array([[ True,  True,  True],\n",
       "       [ True, False, False]])"
      ]
     },
     "execution_count": 12,
     "metadata": {},
     "output_type": "execute_result"
    }
   ],
   "source": [
    "ct.get_shape(\"L\", crop=True)"
   ]
  },
  {
   "cell_type": "code",
   "execution_count": 8,
   "id": "de016a6e-1020-45b7-aafe-373800da4ec8",
   "metadata": {},
   "outputs": [
    {
     "data": {
      "text/plain": [
       "array([[False,  True,  True, False],\n",
       "       [False,  True,  True, False]])"
      ]
     },
     "execution_count": 8,
     "metadata": {},
     "output_type": "execute_result"
    }
   ],
   "source": [
    "ct.get_shape(current)"
   ]
  },
  {
   "cell_type": "code",
   "execution_count": 9,
   "id": "5151240c-60a9-46ac-8e52-cfc3acc3ff96",
   "metadata": {},
   "outputs": [
    {
     "data": {
      "text/plain": [
       "array([[ True,  True],\n",
       "       [ True,  True]])"
      ]
     },
     "execution_count": 9,
     "metadata": {},
     "output_type": "execute_result"
    }
   ],
   "source": [
    "ct.get_shape(current, crop=True)"
   ]
  },
  {
   "cell_type": "code",
   "execution_count": 41,
   "id": "21e27420-65ff-4ab9-9e36-8f5b7bfb7a12",
   "metadata": {},
   "outputs": [],
   "source": [
    "def get_possibilities(tetris):\n",
    "    tetro = ct.current_tetromino(tetris)\n",
    "    binary_game_area = tetris.game_area().base != 47\n",
    "    binary_game_area[1:3,3:7] = False\n",
    "    original_shape = ct.get_shape(tetro, crop=True)\n",
    "    expected_sum = binary_game_area.sum() + original_shape.sum()\n",
    "    possibilities = []\n",
    "    for rotation in range(4):\n",
    "        shape = original_shape.copy()\n",
    "        for i in range(rotation):\n",
    "            shape = np.rot90(shape)\n",
    "        h,w = shape.shape\n",
    "        for c in range(10 - w + 1):\n",
    "            best = binary_game_area.copy()\n",
    "            for r in range(18 - h + 1):\n",
    "                ga = binary_game_area.copy()\n",
    "                ga[r:r+h,c:c+w] = np.logical_or(ga[r:r+h,c:c+w], shape)\n",
    "                if ga.sum() != expected_sum:\n",
    "                    break\n",
    "                best = ga\n",
    "            possibilities.append([best, c, rotation])\n",
    "    return possibilities"
   ]
  },
  {
   "cell_type": "code",
   "execution_count": 42,
   "id": "eaa5d95f-8a4c-4eae-a103-a01c7037b682",
   "metadata": {},
   "outputs": [],
   "source": [
    "pos = get_possibilities(tetris)"
   ]
  },
  {
   "cell_type": "code",
   "execution_count": 39,
   "id": "83077aa2-01d6-44f8-b603-269dcb0b12c4",
   "metadata": {},
   "outputs": [
    {
     "data": {
      "text/plain": [
       "<matplotlib.image.AxesImage at 0x1f8e58f3d90>"
      ]
     },
     "execution_count": 39,
     "metadata": {},
     "output_type": "execute_result"
    },
    {
     "data": {
      "image/png": "[encoded data removed]",
      "text/plain": [
       "<Figure size 640x480 with 1 Axes>"
      ]
     },
     "metadata": {},
     "output_type": "display_data"
    }
   ],
   "source": [
    "plt.imshow(pos[8][0])"
   ]
  },
  {
   "cell_type": "code",
   "execution_count": 40,
   "id": "9b154895-ea9f-45b6-a4db-b83216d17850",
   "metadata": {},
   "outputs": [
    {
     "data": {
      "text/plain": [
       "[0, 1]"
      ]
     },
     "execution_count": 40,
     "metadata": {},
     "output_type": "execute_result"
    }
   ],
   "source": [
    "pos[8][1:]"
   ]
  },
  {
   "cell_type": "code",
   "execution_count": 19,
   "id": "af7acf47-2ae2-488b-80a4-0199f9e7e789",
   "metadata": {},
   "outputs": [],
   "source": [
    "def play_until_next_tetro(pyboy, tetris):\n",
    "    while not ct.current_tetromino(tetris):\n",
    "        pyboy.tick()"
   ]
  },
  {
   "cell_type": "code",
   "execution_count": 24,
   "id": "2b97693a-7444-44fb-a3bc-5414ee5484c6",
   "metadata": {},
   "outputs": [],
   "source": [
    "[pyboy.tick() for _ in range(60)]\n",
    "play_until_next_tetro(pyboy, tetris)"
   ]
  },
  {
   "cell_type": "code",
   "execution_count": 44,
   "id": "9aa88864-7462-437c-8480-31ec10b7e915",
   "metadata": {},
   "outputs": [
    {
     "data": {
      "text/plain": [
       "<matplotlib.image.AxesImage at 0x1f8de1740d0>"
      ]
     },
     "execution_count": 44,
     "metadata": {},
     "output_type": "execute_result"
    },
    {
     "data": {
      "image/png": "[encoded data removed]",
      "text/plain": [
       "<Figure size 640x480 with 1 Axes>"
      ]
     },
     "metadata": {},
     "output_type": "display_data"
    }
   ],
   "source": [
    "pos = get_possibilities(tetris)\n",
    "plt.imshow(pos[5][0])"
   ]
  }
 ],
 "metadata": {
  "kernelspec": {
   "display_name": "Python 3 (ipykernel)",
   "language": "python",
   "name": "python3"
  },
  "language_info": {
   "codemirror_mode": {
    "name": "ipython",
    "version": 3
   },
   "file_extension": ".py",
   "mimetype": "text/x-python",
   "name": "python",
   "nbconvert_exporter": "python",
   "pygments_lexer": "ipython3",
   "version": "3.11.7"
  }
 },
 "nbformat": 4,
 "nbformat_minor": 5
}
