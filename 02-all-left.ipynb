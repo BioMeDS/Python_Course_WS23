{
 "cells": [
  {
   "cell_type": "code",
   "execution_count": 1,
   "id": "9d11a386-4893-4f8a-b883-8277aa78c055",
   "metadata": {},
   "outputs": [
    {
     "name": "stderr",
     "output_type": "stream",
     "text": [
      "UserWarning: Using SDL2 binaries from pysdl2-dll 2.30.0\n"
     ]
    }
   ],
   "source": [
    "from pyboy import PyBoy, WindowEvent"
   ]
  },
  {
   "cell_type": "code",
   "execution_count": 2,
   "id": "071e9172-2ecc-48ce-8802-fc2bb707cc8a",
   "metadata": {},
   "outputs": [],
   "source": [
    "pyboy = PyBoy(\"Tetris.gb\", game_wrapper=True)"
   ]
  },
  {
   "cell_type": "code",
   "execution_count": 3,
   "id": "3078e4a8-ec2d-4d0e-a807-2fe6f6663c89",
   "metadata": {},
   "outputs": [],
   "source": [
    "pyboy.set_emulation_speed(5)"
   ]
  },
  {
   "cell_type": "code",
   "execution_count": 4,
   "id": "8e4a6e9e-a2f8-47b7-8ebf-c4fb672195f1",
   "metadata": {},
   "outputs": [],
   "source": [
    "tetris = pyboy.game_wrapper()"
   ]
  },
  {
   "cell_type": "code",
   "execution_count": 5,
   "id": "1878968b-c207-4ed2-affc-9e6860e6080c",
   "metadata": {},
   "outputs": [],
   "source": [
    "tetris.start_game(timer_div=0x01)"
   ]
  },
  {
   "cell_type": "code",
   "execution_count": 6,
   "id": "3740a736-1cd2-4e73-9ca5-651754a7c7f5",
   "metadata": {},
   "outputs": [
    {
     "data": {
      "text/plain": [
       "'S'"
      ]
     },
     "execution_count": 6,
     "metadata": {},
     "output_type": "execute_result"
    }
   ],
   "source": [
    "tetris.next_tetromino()"
   ]
  },
  {
   "cell_type": "code",
   "execution_count": null,
   "id": "4a1211f4-459c-4076-aa45-06a1ab906f11",
   "metadata": {},
   "outputs": [],
   "source": [
    "def current_tetromino(tetris):\n",
    "    return 'I'"
   ]
  },
  {
   "cell_type": "code",
   "execution_count": null,
   "id": "57c63bbd-7e80-4a05-8639-013b1bf16c47",
   "metadata": {},
   "outputs": [],
   "source": [
    "def rotate_tetromino(current_tetromino):\n",
    "    return 0 # up to 3"
   ]
  },
  {
   "cell_type": "code",
   "execution_count": null,
   "id": "53fbac9a-adf1-4f3b-8aa5-efb68af533c2",
   "metadata": {},
   "outputs": [],
   "source": [
    "def move_to_position()"
   ]
  },
  {
   "cell_type": "code",
   "execution_count": 9,
   "id": "54d335ae-9a12-4267-b2b3-48965d323a7b",
   "metadata": {},
   "outputs": [
    {
     "ename": "KeyboardInterrupt",
     "evalue": "",
     "output_type": "error",
     "traceback": [
      "\u001b[1;31m---------------------------------------------------------------------------\u001b[0m",
      "\u001b[1;31mKeyboardInterrupt\u001b[0m                         Traceback (most recent call last)",
      "Cell \u001b[1;32mIn[9], line 3\u001b[0m\n\u001b[0;32m      1\u001b[0m pyboy\u001b[38;5;241m.\u001b[39msend_input(WindowEvent\u001b[38;5;241m.\u001b[39mPRESS_ARROW_LEFT)\n\u001b[0;32m      2\u001b[0m \u001b[38;5;28;01mwhile\u001b[39;00m \u001b[38;5;241m~\u001b[39mtetris\u001b[38;5;241m.\u001b[39mgame_over():\n\u001b[1;32m----> 3\u001b[0m     pyboy\u001b[38;5;241m.\u001b[39mtick()\n",
      "\u001b[1;31mKeyboardInterrupt\u001b[0m: "
     ]
    }
   ],
   "source": [
    "pyboy.send_input(WindowEvent.PRESS_ARROW_LEFT)\n",
    "while ~tetris.game_over():\n",
    "    pyboy.tick()"
   ]
  },
  {
   "cell_type": "code",
   "execution_count": 7,
   "id": "b1e0de5f-d4d1-4b0a-80b5-549b12fd8d5b",
   "metadata": {},
   "outputs": [
    {
     "data": {
      "text/plain": [
       "False"
      ]
     },
     "execution_count": 7,
     "metadata": {},
     "output_type": "execute_result"
    }
   ],
   "source": [
    "tetris.game_over()"
   ]
  },
  {
   "cell_type": "code",
   "execution_count": 12,
   "id": "2d54d3fb-d7a8-4b89-bf0c-ec4686bda548",
   "metadata": {},
   "outputs": [],
   "source": [
    "tetris.reset_game(timer_div=0x01)"
   ]
  }
 ],
 "metadata": {
  "kernelspec": {
   "display_name": "Python 3 (ipykernel)",
   "language": "python",
   "name": "python3"
  },
  "language_info": {
   "codemirror_mode": {
    "name": "ipython",
    "version": 3
   },
   "file_extension": ".py",
   "mimetype": "text/x-python",
   "name": "python",
   "nbconvert_exporter": "python",
   "pygments_lexer": "ipython3",
   "version": "3.11.7"
  }
 },
 "nbformat": 4,
 "nbformat_minor": 5
}
